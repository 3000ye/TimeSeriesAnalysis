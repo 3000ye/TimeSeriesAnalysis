{
 "cells": [
  {
   "cell_type": "markdown",
   "metadata": {},
   "source": [
    "### 考虑 CRSP 价值加权指数月度收益率，时间从 1926-1 到 2008-12"
   ]
  },
  {
   "cell_type": "code",
   "execution_count": null,
   "metadata": {},
   "outputs": [],
   "source": [
    "import pandas as pd\n",
    "import matplotlib.pyplot as plt\n",
    "import numpy as np\n",
    "\n",
    "raw_data = []\n",
    "with open(\"../ftsdata/m-ibm3dx2608.txt\", \"r\", encoding=\"utf-8\") as file:\n",
    "    for line in file.readlines():\n",
    "        line = line.strip(\"\\n\").strip(\" \").replace(\"\\t\", \" \").split(\" \")\n",
    "        line = list(filter(lambda x: x != \"\", line))\n",
    "        raw_data.append(line)\n",
    "data = pd.DataFrame(raw_data[1:], columns=raw_data[0])\n",
    "\n",
    "data[\"date\"] = pd.to_datetime(data[\"date\"], format=\"%Y%m%d\")\n",
    "data.set_index(\"date\", inplace=True)\n",
    "data = data.apply(pd.to_numeric)\n",
    "data.head()"
   ]
  },
  {
   "cell_type": "code",
   "execution_count": null,
   "metadata": {},
   "outputs": [],
   "source": [
    "from statsmodels.tsa.ar_model import AutoReg\n",
    "\n",
    "\n",
    "aic_list, bic_list = [], []\n",
    "# 拟合AR模型\n",
    "for i in range(1, 15):\n",
    "    model = AutoReg(data[\"vwrtn\"], lags=i)  # 假设使用1阶自回归模型，调整lags参数根据实际需要\n",
    "    resm = model.fit()\n",
    "\n",
    "    print(f\"AIC = {resm.aic}, BIC = {resm.bic}\")\n",
    "    aic_list.append(resm.aic)\n",
    "    bic_list.append(resm.bic)\n",
    "\n",
    "best_aic = np.argmin(aic_list) + 1\n",
    "best_bic = np.argmin(bic_list) + 1\n",
    "\n",
    "print(f\"best_aic = {best_aic}, best_bic = {best_bic}\")"
   ]
  },
  {
   "cell_type": "code",
   "execution_count": null,
   "metadata": {},
   "outputs": [],
   "source": [
    "plt.figure(figsize=(8, 4))\n",
    "plt.plot(data[\"vwrtn\"], label='Value Weighted Return', color=\"green\")\n",
    "plt.title('CRSP Value Weighted Index Monthly Return')\n",
    "plt.ylabel('Value Weighted')\n",
    "plt.legend()\n",
    "plt.show()"
   ]
  },
  {
   "cell_type": "code",
   "execution_count": null,
   "metadata": {},
   "outputs": [],
   "source": [
    "from statsmodels.graphics.tsaplots import plot_acf\n",
    "\n",
    "plt.figure(figsize=(8, 4))\n",
    "ax = plt.gca()  # 获取当前的轴对象\n",
    "plot_acf(data[\"vwrtn\"], ax=ax, lags=30)\n",
    "ax.set_ylim(-0.25, 0.25)\n",
    "ax.set_xlabel('Lag', fontsize=16)  # 设置横轴标签\n",
    "plt.title('ACF of Value Weighted Return')\n",
    "plt.show()"
   ]
  },
  {
   "cell_type": "code",
   "execution_count": null,
   "metadata": {},
   "outputs": [],
   "source": [
    "from statsmodels.graphics.tsaplots import plot_pacf\n",
    "\n",
    "plt.figure(figsize=(8, 4))\n",
    "ax = plt.gca()  # 获取当前的轴对象\n",
    "plot_pacf(data[\"vwrtn\"], ax=ax, lags=30)\n",
    "ax.set_ylim(-0.25, 0.25)\n",
    "ax.set_xlabel('Lag', fontsize=16)  # 设置横轴标签\n",
    "plt.title('PACF of Value Weighted Return')\n",
    "plt.show()"
   ]
  },
  {
   "cell_type": "markdown",
   "metadata": {},
   "source": [
    "### 例子：美国的国民生产总值 (GNP) 经过季节调整后的季度增长率"
   ]
  },
  {
   "cell_type": "code",
   "execution_count": null,
   "metadata": {},
   "outputs": [],
   "source": [
    "import pandas as pd\n",
    "import numpy as np\n",
    "\n",
    "# 读取数据文件\n",
    "da = pd.read_csv(\"../ftsdata/q-gnp4710.txt\", sep='\\s+', dtype=float)\n",
    "data = pd.DataFrame(da[\"VALUE\"].values, index=pd.date_range(start=\"1947-01\", periods=len(da), freq='QE'), columns=[\"value\"])\n",
    "data.head()"
   ]
  },
  {
   "cell_type": "code",
   "execution_count": null,
   "metadata": {},
   "outputs": [],
   "source": [
    "from statsmodels.graphics.tsaplots import plot_acf\n",
    "\n",
    "plt.figure(figsize=(8, 4))\n",
    "ax = plt.gca()  # 获取当前的轴对象\n",
    "plot_acf(np.diff(np.log(data[\"value\"])), ax=ax, lags=30)\n",
    "ax.set_ylim(-0.25, 1)\n",
    "ax.set_xlabel('Lag', fontsize=16)  # 设置横轴标签\n",
    "plt.title('')\n",
    "plt.show()"
   ]
  },
  {
   "cell_type": "code",
   "execution_count": null,
   "metadata": {},
   "outputs": [],
   "source": [
    "from statsmodels.graphics.tsaplots import plot_pacf\n",
    "\n",
    "plt.figure(figsize=(8, 4))\n",
    "ax = plt.gca()  # 获取当前的轴对象\n",
    "plot_pacf(np.diff(np.log(data[\"value\"])), ax=ax, lags=30)\n",
    "ax.set_ylim(-0.25, 1)\n",
    "ax.set_xlabel('Lag', fontsize=16)  # 设置横轴标签\n",
    "plt.title('')\n",
    "plt.show()"
   ]
  },
  {
   "cell_type": "code",
   "execution_count": null,
   "metadata": {},
   "outputs": [],
   "source": []
  }
 ],
 "metadata": {
  "kernelspec": {
   "display_name": "scikit_learn",
   "language": "python",
   "name": "python3"
  },
  "language_info": {
   "codemirror_mode": {
    "name": "ipython",
    "version": 3
   },
   "file_extension": ".py",
   "mimetype": "text/x-python",
   "name": "python",
   "nbconvert_exporter": "python",
   "pygments_lexer": "ipython3",
   "version": "3.10.14"
  }
 },
 "nbformat": 4,
 "nbformat_minor": 2
}
